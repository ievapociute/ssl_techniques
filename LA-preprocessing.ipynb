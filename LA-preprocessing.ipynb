{
 "cells": [
  {
   "cell_type": "markdown",
   "metadata": {},
   "source": [
    "# Left Atrium dataset preprocessing"
   ]
  },
  {
   "cell_type": "code",
   "execution_count": null,
   "metadata": {},
   "outputs": [],
   "source": [
    "import sys\n",
    "import os\n",
    "import numpy as np\n",
    "import cv2\n",
    "import SimpleITK as sitk\n",
    "import h5py\n",
    "\n",
    "def load_nrrd(full_path_filename):\n",
    "\tdata = sitk.ReadImage(full_path_filename)\t\t\t\t\t\t\n",
    "\tdata = sitk.Cast(sitk.RescaleIntensity(data),sitk.sitkUInt8)\t\n",
    "\tdata = sitk.GetArrayFromImage(data)\t\t\t\t\t\t\t\t\n",
    "\t\n",
    "\treturn(data)\n",
    "\n",
    "def create_folder(full_path_filename):\n",
    "\tif not os.path.exists(full_path_filename):\n",
    "\t\tos.makedirs(full_path_filename)\n",
    "\treturn"
   ]
  },
  {
   "cell_type": "code",
   "execution_count": 2,
   "metadata": {},
   "outputs": [],
   "source": [
    "import os\n",
    "\n",
    "n1 = 112\t\t\t\t\t\t\n",
    "\n",
    "N_train_patients = 100 \t\n",
    "N_test_patients  = 1\t\t\n",
    "\n",
    "train_files = os.listdir(\"2018_UTAH_MICCAI\\\\Training Set\")\n",
    "test_files = os.listdir(\"2018_UTAH_MICCAI\\\\Testing Set\")\n",
    "\n",
    "\n",
    "Image,Label = [],[]"
   ]
  },
  {
   "cell_type": "code",
   "execution_count": 5,
   "metadata": {},
   "outputs": [],
   "source": [
    "\n",
    "for i in range(N_train_patients):\n",
    "\tpatient_3DMRI_scan = load_nrrd(os.path.join(\"2018_UTAH_MICCAI\\\\Training Set\",train_files[i],'lgemri.nrrd'))\n",
    "\tpatient_3DMRI_cavity = load_nrrd(os.path.join(\"2018_UTAH_MICCAI\\\\Training Set\",train_files[i],'laendo.nrrd'))//255\n",
    "\tpatient_3DMRI_scan   = np.rollaxis(patient_3DMRI_scan,0,3)\n",
    "\tpatient_3DMRI_cavity = np.rollaxis(patient_3DMRI_cavity,0,3)\n",
    "\tmidpoint = patient_3DMRI_cavity.shape[0]//2\n",
    "\tn11, n12 = midpoint - int(n1/2), midpoint + int(n1/2)\n",
    "\n",
    "\tfor n_slice in range(patient_3DMRI_scan.shape[2]):\n",
    "\t\tImage.append(patient_3DMRI_scan[n11:n12,n11:n12,n_slice])\n",
    "\t\tLabel.append(patient_3DMRI_cavity[n11:n12,n11:n12,n_slice])"
   ]
  },
  {
   "cell_type": "code",
   "execution_count": 10,
   "metadata": {},
   "outputs": [],
   "source": [
    "Image,Label = np.array(Image),np.array(Label)\n",
    "\n",
    "temp = np.empty(shape=[Label.shape[0],n1,n1,2])\n",
    "temp[:,:,:,0] = 1-Label\n",
    "temp[:,:,:,1] = Label\n",
    "\n",
    "Image,Label = np.reshape(Image,newshape=[-1,n1,n1,1]),np.reshape(temp,newshape=[-1,n1,n1,2])\n",
    "\n",
    "train_mean,train_sd = np.mean(Image),np.std(Image)\n",
    "\n",
    "Image = (Image-train_mean)/train_sd\n",
    "\n",
    "for i in range(N_train_patients):\n",
    "\tImages,Labels = [],[]\n",
    "\tfilen = os.path.join(\"2018_UTAH_MICCAI\\\\Training Set\",train_files[i],'mri_norm2.h5')\n",
    "\tpatient_3DMRI_scan = load_nrrd(os.path.join(\"2018_UTAH_MICCAI\\\\Training Set\",train_files[i],'lgemri.nrrd'))\n",
    "\tpatient_3DMRI_cavity = load_nrrd(os.path.join(\"2018_UTAH_MICCAI\\\\Training Set\",train_files[i],'laendo.nrrd'))//255\n",
    "\tpatient_3DMRI_scan   = np.rollaxis(patient_3DMRI_scan,0,3)\n",
    "\tpatient_3DMRI_cavity = np.rollaxis(patient_3DMRI_cavity,0,3)\n",
    "\tmidpoint = patient_3DMRI_cavity.shape[0]//2\n",
    "\tn11, n12 = midpoint - int(n1/2), midpoint + int(n1/2)\n",
    "\tfor n_slice in range(patient_3DMRI_scan.shape[2]):\n",
    "\n",
    "\t\tImages.append(patient_3DMRI_scan[n11:n12,n11:n12,n_slice])\n",
    "\t\tLabels.append(patient_3DMRI_cavity[n11:n12,n11:n12,n_slice])\n",
    "\t\t\n",
    "\th5f = h5py.File(filen,'w')\n",
    "\th5f.create_dataset(\"image\",\t\t\tdata=Images)\n",
    "\th5f.create_dataset(\"label\",\t\t\tdata=Labels)\n",
    "\th5f.create_dataset(\"train.mean\",\tdata=train_mean)\n",
    "\th5f.create_dataset(\"train.sd\",\t\tdata=train_sd)\n",
    "\th5f.close()"
   ]
  },
  {
   "cell_type": "markdown",
   "metadata": {},
   "source": [
    "# Data split preparation"
   ]
  },
  {
   "cell_type": "code",
   "execution_count": 4,
   "metadata": {},
   "outputs": [],
   "source": [
    "import os\n",
    "import random\n",
    "all_files = os.listdir(\"LA\")"
   ]
  },
  {
   "cell_type": "code",
   "execution_count": 3,
   "metadata": {},
   "outputs": [],
   "source": [
    "random.shuffle(all_files)"
   ]
  },
  {
   "cell_type": "code",
   "execution_count": 8,
   "metadata": {},
   "outputs": [],
   "source": [
    "train_set = all_files[:60]\n",
    "val_set = all_files[60:80]\n",
    "test_set = all_files[80:]"
   ]
  },
  {
   "cell_type": "code",
   "execution_count": 7,
   "metadata": {},
   "outputs": [],
   "source": [
    "files = []\n",
    "for filename in all_files:\n",
    "    filename = filename[:-3]\n",
    "    files.append(filename)"
   ]
  },
  {
   "cell_type": "code",
   "execution_count": 8,
   "metadata": {},
   "outputs": [],
   "source": [
    "files = files[:-3]"
   ]
  },
  {
   "cell_type": "code",
   "execution_count": 11,
   "metadata": {},
   "outputs": [],
   "source": [
    "\n",
    "with open(\"LA\\\\train.txt\", \"w\") as f:\n",
    "    for name in train_set:\n",
    "        f.write(name[:-3] + \"\\n\")\n",
    "\n",
    "with open(\"LA\\\\val.txt\", \"w\") as f:\n",
    "    for name in val_set:\n",
    "        f.write(name[:-3] + \"\\n\")\n",
    "\n",
    "with open(\"LA\\\\test.txt\", \"w\") as f:\n",
    "    for name in test_set:\n",
    "        f.write(name[:-3] + \"\\n\")"
   ]
  }
 ],
 "metadata": {
  "kernelspec": {
   "display_name": "Python 3",
   "language": "python",
   "name": "python3"
  },
  "language_info": {
   "codemirror_mode": {
    "name": "ipython",
    "version": 3
   },
   "file_extension": ".py",
   "mimetype": "text/x-python",
   "name": "python",
   "nbconvert_exporter": "python",
   "pygments_lexer": "ipython3",
   "version": "3.11.4"
  }
 },
 "nbformat": 4,
 "nbformat_minor": 2
}
