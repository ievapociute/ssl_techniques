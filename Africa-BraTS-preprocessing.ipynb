{
 "cells": [
  {
   "cell_type": "markdown",
   "metadata": {},
   "source": [
    "# Image processing"
   ]
  },
  {
   "cell_type": "code",
   "execution_count": 1,
   "metadata": {},
   "outputs": [],
   "source": [
    "input_folder  = \"input-folder\""
   ]
  },
  {
   "cell_type": "code",
   "execution_count": null,
   "metadata": {},
   "outputs": [],
   "source": [
    "import nibabel as nib\n",
    "import numpy as np\n",
    "import h5py\n",
    "import os\n",
    "\n",
    "def nifti_to_h5(nifti_file, h5_file, dataset_name):\n",
    "    nii_img = nib.load(nifti_file)\n",
    "    image_data = nii_img.get_fdata()\n",
    "    image_data = np.transpose(image_data, (2, 0, 1))\n",
    "    image_data[image_data == 4] = 3\n",
    "    target_depth, target_height, target_width = 155, 240, 240\n",
    "    start_h = (image_data.shape[1] - target_height) // 2\n",
    "    start_w = (image_data.shape[2] - target_width) // 2\n",
    "    image_data = image_data[:, start_h:start_h + target_height, start_w:start_w + target_width]\n",
    "    \n",
    "\n",
    "    with h5py.File(h5_file, 'a') as hf:\n",
    "        if dataset_name in hf:\n",
    "            print(f\"Dataset {dataset_name} already exists in {h5_file}. Skipping.\")\n",
    "        else:\n",
    "            hf.create_dataset(dataset_name, data=image_data, compression=\"gzip\")\n",
    "            print(f\"Added {nifti_file} as {dataset_name} to {h5_file}\")\n",
    "\n",
    "def batch_convert_nifti_to_h5(input_folder):\n",
    "    for case_folder in os.listdir(input_folder):\n",
    "        case_path = os.path.join(input_folder, case_folder)\n",
    "        \n",
    "        if os.path.isdir(case_path):\n",
    "            output_h5_file = os.path.join(input_folder, f\"{case_folder}.h5\")\n",
    "            \n",
    "            for file_name in os.listdir(case_path):\n",
    "                if file_name.endswith('.nii.gz') or file_name.endswith('.nii'):\n",
    "                    nifti_file = os.path.join(case_path, file_name)\n",
    "                    \n",
    "                    if 't1c' in file_name:\n",
    "                        nifti_to_h5(nifti_file, output_h5_file, 'image')\n",
    "                    elif 'seg' in file_name:\n",
    "                        nifti_to_h5(nifti_file, output_h5_file, 'label')\n",
    "\n",
    "batch_convert_nifti_to_h5(input_folder)"
   ]
  },
  {
   "cell_type": "code",
   "execution_count": null,
   "metadata": {},
   "outputs": [],
   "source": [
    "import h5py\n",
    "# Replace 'your_file.h5' with the path to your HDF5 file\n",
    "file_path = \"PKG - BraTS-Africa\\\\BraTS-Africa\\\\95_Glioma\\\\BraTS-SSA-00228-000.h5\"\n",
    "\n",
    "# Open the file in read mode\n",
    "with h5py.File(file_path, 'r') as h5_file:\n",
    "    # List all the groups/datasets in the file\n",
    "    print(\"Keys in the file:\", list(h5_file.keys()))\n",
    "    # Check the shape of the 'images' dataset\n",
    "    if 'image' in h5_file:\n",
    "        print(\"Image shape:\", h5_file['image'].shape)\n",
    "    \n",
    "    # Check the shape of the 'labels' dataset\n",
    "    if 'label' in h5_file:\n",
    "        print(\"Label shape:\", h5_file['label'].shape)"
   ]
  },
  {
   "cell_type": "markdown",
   "metadata": {},
   "source": [
    "# Data split preparation"
   ]
  },
  {
   "cell_type": "code",
   "execution_count": 3,
   "metadata": {},
   "outputs": [],
   "source": [
    "import os\n",
    "import random\n",
    "all_files = os.listdir(\"Africa-BraTS\")"
   ]
  },
  {
   "cell_type": "code",
   "execution_count": 5,
   "metadata": {},
   "outputs": [],
   "source": [
    "random.shuffle(all_files)"
   ]
  },
  {
   "cell_type": "code",
   "execution_count": 7,
   "metadata": {},
   "outputs": [],
   "source": [
    "files = []\n",
    "for filename in all_files:\n",
    "    filename = filename[:-3]\n",
    "    files.append(filename)"
   ]
  },
  {
   "cell_type": "code",
   "execution_count": 9,
   "metadata": {},
   "outputs": [],
   "source": [
    "train_set = files[:60]\n",
    "val_set = files[60:80]\n",
    "test_set = files[80:]"
   ]
  },
  {
   "cell_type": "code",
   "execution_count": 11,
   "metadata": {},
   "outputs": [],
   "source": [
    "# Optional: Save splits to text files\n",
    "with open(\"Africa-BraTS\\\\train.txt\", \"w\") as f:\n",
    "    for name in train_set:\n",
    "        f.write(name + \"\\n\")\n",
    "\n",
    "with open(\"Africa-BraTS\\\\val.txt\", \"w\") as f:\n",
    "    for name in val_set:\n",
    "        f.write(name + \"\\n\")\n",
    "\n",
    "with open(\"Africa-BraTS\\\\test.txt\", \"w\") as f:\n",
    "    for name in test_set:\n",
    "        f.write(name + \"\\n\")"
   ]
  }
 ],
 "metadata": {
  "kernelspec": {
   "display_name": "Python 3",
   "language": "python",
   "name": "python3"
  },
  "language_info": {
   "codemirror_mode": {
    "name": "ipython",
    "version": 3
   },
   "file_extension": ".py",
   "mimetype": "text/x-python",
   "name": "python",
   "nbconvert_exporter": "python",
   "pygments_lexer": "ipython3",
   "version": "3.11.4"
  }
 },
 "nbformat": 4,
 "nbformat_minor": 2
}
